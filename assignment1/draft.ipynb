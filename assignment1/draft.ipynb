{
 "cells": [
  {
   "cell_type": "code",
   "id": "initial_id",
   "metadata": {
    "collapsed": true,
    "ExecuteTime": {
     "end_time": "2024-05-14T14:11:44.190439Z",
     "start_time": "2024-05-14T14:11:44.115879Z"
    }
   },
   "source": "import numpy as np",
   "outputs": [],
   "execution_count": 1
  },
  {
   "metadata": {
    "ExecuteTime": {
     "end_time": "2024-05-14T14:11:48.661816Z",
     "start_time": "2024-05-14T14:11:48.659276Z"
    }
   },
   "cell_type": "code",
   "source": [
    "A = np.array([1, 2, 3])          # Tableau 1D de forme (3,)\n",
    "B = np.array([[4, 5, 6],         # Tableau 2D de forme (2, 3)\n",
    "              [7, 8, 9]])\n"
   ],
   "id": "3477478a1c3b37bc",
   "outputs": [],
   "execution_count": 2
  },
  {
   "metadata": {
    "ExecuteTime": {
     "end_time": "2024-05-14T14:11:52.581923Z",
     "start_time": "2024-05-14T14:11:52.579412Z"
    }
   },
   "cell_type": "code",
   "source": [
    "C = B - A\n",
    "print(C)\n"
   ],
   "id": "14eb6b8f633b1857",
   "outputs": [
    {
     "name": "stdout",
     "output_type": "stream",
     "text": [
      "[[3 3 3]\n",
      " [6 6 6]]\n"
     ]
    }
   ],
   "execution_count": 3
  },
  {
   "metadata": {},
   "cell_type": "code",
   "outputs": [],
   "execution_count": null,
   "source": "",
   "id": "dc5f701553d49087"
  }
 ],
 "metadata": {
  "kernelspec": {
   "display_name": "Python 3",
   "language": "python",
   "name": "python3"
  },
  "language_info": {
   "codemirror_mode": {
    "name": "ipython",
    "version": 2
   },
   "file_extension": ".py",
   "mimetype": "text/x-python",
   "name": "python",
   "nbconvert_exporter": "python",
   "pygments_lexer": "ipython2",
   "version": "2.7.6"
  }
 },
 "nbformat": 4,
 "nbformat_minor": 5
}
