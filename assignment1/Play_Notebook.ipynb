{
 "cells": [
  {
   "metadata": {
    "ExecuteTime": {
     "end_time": "2024-07-03T14:02:09.708186Z",
     "start_time": "2024-07-03T14:02:09.704859Z"
    }
   },
   "cell_type": "code",
   "source": [
    "import numpy as np\n",
    "import math"
   ],
   "id": "9c0bee8cb056202f",
   "outputs": [],
   "execution_count": 10
  },
  {
   "metadata": {},
   "cell_type": "markdown",
   "source": "## Chain rule",
   "id": "ad8de163d9d8fc08"
  },
  {
   "metadata": {
    "ExecuteTime": {
     "end_time": "2024-07-03T13:24:26.683942Z",
     "start_time": "2024-07-03T13:24:26.680116Z"
    }
   },
   "cell_type": "code",
   "source": [
    "# set some inputs\n",
    "x = -2; y = 5; z = -4\n",
    "\n",
    "# perform the forward pass\n",
    "q = x + y # q becomes 3\n",
    "f = q * z # f becomes -12\n",
    "\n",
    "# perform the backward pass (backpropagation) in reverse order:\n",
    "# first backprop through f = q * z\n",
    "dfdz = q # df/dz = q, so gradient on z becomes 3\n",
    "dfdq = z # df/dq = z, so gradient on q becomes -4\n",
    "dqdx = 1.0\n",
    "dqdy = 1.0\n",
    "# now backprop through q = x + y\n",
    "dfdx = dfdq * dqdx  # The multiplication here is the chain rule!\n",
    "dfdy = dfdq * dqdy "
   ],
   "id": "9c41d3cdd837906c",
   "outputs": [],
   "execution_count": 8
  },
  {
   "metadata": {},
   "cell_type": "markdown",
   "source": "### Deriving the sigmoid",
   "id": "e635057ef6da1f3b"
  },
  {
   "metadata": {
    "ExecuteTime": {
     "end_time": "2024-07-03T14:02:12.234078Z",
     "start_time": "2024-07-03T14:02:12.227648Z"
    }
   },
   "cell_type": "code",
   "source": [
    "w = [2,-3,-3] # assume some random weights and data\n",
    "x = [-1, -2]\n",
    "\n",
    "# forward pass\n",
    "dot = w[0]*x[0] + w[1]*x[1] + w[2]\n",
    "f = 1.0 / (1 + math.exp(-dot)) # sigmoid function\n",
    "\n",
    "# backward pass through the neuron (backpropagation)\n",
    "ddot = (1 - f) * f # gradient on dot variable, using the sigmoid gradient derivation\n",
    "dx = [w[0] * ddot, w[1] * ddot] # backprop into x\n",
    "dw = [x[0] * ddot, x[1] * ddot, 1.0 * ddot] # backprop into w\n",
    "# we're done! we have the gradients on the inputs to the circuit"
   ],
   "id": "156e0844b949749e",
   "outputs": [],
   "execution_count": 11
  },
  {
   "metadata": {},
   "cell_type": "code",
   "outputs": [],
   "execution_count": null,
   "source": "",
   "id": "6be5d8e634a0bbf9"
  }
 ],
 "metadata": {
  "kernelspec": {
   "display_name": "Python 3",
   "language": "python",
   "name": "python3"
  },
  "language_info": {
   "codemirror_mode": {
    "name": "ipython",
    "version": 2
   },
   "file_extension": ".py",
   "mimetype": "text/x-python",
   "name": "python",
   "nbconvert_exporter": "python",
   "pygments_lexer": "ipython2",
   "version": "2.7.6"
  }
 },
 "nbformat": 4,
 "nbformat_minor": 5
}
